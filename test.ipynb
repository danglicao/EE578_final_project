{
 "cells": [
  {
   "cell_type": "code",
   "execution_count": 1,
   "id": "50d488ee-5fad-4493-ab01-e0a68c997953",
   "metadata": {},
   "outputs": [],
   "source": [
    "import numpy as np\n",
    "import matplotlib.pyplot as plt\n",
    "import matplotlib.patches as patches\n",
    "from tqdm import tqdm\n",
    "import cupy as cp"
   ]
  },
  {
   "cell_type": "code",
   "execution_count": null,
   "id": "da6893edb061a99d",
   "metadata": {},
   "outputs": [],
   "source": [
    "import numpy as np\n",
    "import matplotlib.pyplot as plt\n",
    "import matplotlib.patches as patches\n",
    "from tqdm import tqdm\n",
    "\n",
    "def main():\n",
    "    # Simulation parameters\n",
    "    epsilon0 = 1.0\n",
    "    mu0 = 1.0\n",
    "    c0 = 1.0\n",
    "    lambda_0 = 600\n",
    "    lambda_U = 1200\n",
    "    lambda_L = 900\n",
    "    dx = dy = 20\n",
    "    dt = dx / (c0 * np.sqrt(2))\n",
    "\n",
    "    # Spatial Grid Definition\n",
    "    x_min, x_max = -1500, 1500\n",
    "    y_min, y_max = -1500, 1500\n",
    "\n",
    "    Nx = int(round((x_max - x_min) / dx)) + 1\n",
    "    Ny = int(round((y_max - y_min) / dy)) + 1\n",
    "\n",
    "\n",
    "\n",
    "    nt = int(1e6)\n",
    "    x_src, y_src= 0, 0\n",
    "    x_prob, y_prob = 1000, 0\n",
    "    i_x_src = int(round((x_src - x_min) / dx))\n",
    "    i_y_src = int(round((y_src - y_min) / dy))\n",
    "\n",
    "    i_x_prob = int(round((x_prob - x_min) / dx))\n",
    "    i_y_prob = int(round((y_prob - y_min) / dy))\n",
    "\n",
    "    omega_0 = 2 * np.pi * c0 / lambda_0\n",
    "    sigma = (2 / omega_0) * (lambda_0 / (lambda_U - lambda_L))\n",
    "\n",
    "    Ez = np.zeros((Nx, Ny), dtype = np.float32)\n",
    "    Dz = np.zeros((Nx, Ny), dtype = np.float32)\n",
    "    Dz_old = np.zeros((Nx, Ny), dtype = np.float32)\n",
    "    \n",
    "    Hx = np.zeros((Nx, Ny-1), dtype = np.float32)\n",
    "    Bx = np.zeros((Nx, Ny-1), dtype = np.float32)\n",
    "    Bx_old = np.zeros((Nx, Ny-1), dtype = np.float32)\n",
    "    \n",
    "    Hy = np.zeros((Nx-1, Ny), dtype = np.float32)\n",
    "    By = np.zeros((Nx-1, Ny), dtype = np.float32)\n",
    "    By_old = np.zeros((Nx-1, Ny), dtype = np.float32)\n",
    "    \n",
    "    epsilon = np.ones((Nx, Ny), dtype = np.float32) * epsilon0\n",
    "    mu = np.ones((Nx, Ny), dtype = np.float32) * mu0\n",
    "\n",
    "    #PML parameters\n",
    "    pml_thickness = 15\n",
    "    # sigma_max = 1e10\n",
    "    sigma_max = -(np.float32(3 + 1) / np.float32(4)) * (c0 / np.float32(pml_thickness)) * np.log(\n",
    "        np.float32(1e-10))\n",
    "\n",
    "    # sigma_x, sigma_y = pml_profile(sigma_max, pml_thickness, Nx, Ny)\n",
    "    sigma_x_vec, sigma_y_vec = pml_profile(sigma_max, pml_thickness, Nx, Ny)\n",
    "    sigma_x_2d, sigma_y_2d = np.meshgrid(sigma_x_vec, sigma_y_vec,\n",
    "                                                     indexing = 'ij')\n",
    "\n",
    "    Ez_record = np.zeros(int(nt), dtype = np.float32)\n",
    "\n",
    "    print(Bx[1:-1, 1:-1].shape)\n",
    "    print(sigma_y_2d.shape)\n",
    "    print((0.5 * (sigma_y_2d[2:-1, 1:-1] + sigma_y_2d[1:-2, 1:-1])).shape)\n",
    "    print(Hx[1:-1, 1:-1].shape)\n",
    "    print(Hy[1:-1, 1:-1].shape)\n",
    "\n",
    "\n",
    "\n",
    "\n",
    "\n",
    "\n",
    "    # main loop\n",
    "    for n in tqdm(range(nt)):\n",
    "        #add source\n",
    "        Ez[i_x_src][i_y_src] += gaussian_source(n, dt, sigma, omega_0)\n",
    "\n",
    "        Dz, Ez, Hx, Hy, Bx, By, Dz_old, Bx_old, By_old = update_equations(Dz, Ez, Hx, Hy, Bx, By,\n",
    "            Dz_old, Bx_old, By_old,\n",
    "            sigma_x_2d, sigma_y_2d, epsilon, mu,\n",
    "            dt, dx, dy)\n",
    "        Ez_record[n] = Ez[i_x_prob][i_y_prob]\n",
    "\n",
    "    #plotting\n",
    "    fig, ax = plt.subplots()\n",
    "    ax.imshow(Ez, extent = [x_min,x_max,y_min,y_max])\n",
    "    square = patches.Rectangle((x_min+pml_thickness*dx, y_min+pml_thickness*dy), x_max-x_min-2*dx*pml_thickness, y_max-y_min-2*dy*pml_thickness,fc='none', ec='r')\n",
    "    ax.add_patch(square)\n",
    "    #print(Ez)\n",
    "    plt.show()\n",
    "\n",
    "    plt.plot(np.arange(nt), Ez_record)\n",
    "    plt.xlabel('Time (s)')\n",
    "    plt.ylabel('Ez at probe point')\n",
    "    plt.title('Field at Probe Point')\n",
    "    plt.grid(True)\n",
    "    plt.show()\n",
    "\n",
    "def gaussian_source(n, dt, sigma, omega0):\n",
    "    t_now = (n - 0.5) * dt\n",
    "    t0 = 4 * sigma\n",
    "    return np.exp(-((t_now - t0) / sigma)**2) * np.sin(omega0 * (t_now - t0))\n",
    "\n",
    "def sigma_profile(sigma_max, pml_thickness, distance):\n",
    "    poly_deg = 3\n",
    "    return sigma_max * (distance/pml_thickness)**poly_deg\n",
    "\n",
    "# def pml_profile(sigma_max, pml_thickness, Nx, Ny):\n",
    "#     sigma_x = np.zeros((Nx, Ny))\n",
    "#     sigma_y = np.zeros((Nx, Ny))\n",
    "#     for i in range(pml_thickness):\n",
    "#         sigma_x[i, :] = sigma_profile(sigma_max, pml_thickness, pml_thickness - i)\n",
    "#         sigma_x[-1 - i, :] = sigma_profile(sigma_max, pml_thickness, pml_thickness - i)\n",
    "#     for j in range(pml_thickness):\n",
    "#         sigma_y[:, j] = sigma_profile(sigma_max, pml_thickness, pml_thickness - j)\n",
    "#         sigma_y[:, -1 - j] = sigma_profile(sigma_max, pml_thickness, pml_thickness - j)\n",
    "#     return sigma_x, sigma_y\n",
    "\n",
    "def pml_profile(sigma_max, pml_thickness, Nx, Ny):\n",
    "    sigma_x = np.zeros(Nx)\n",
    "    sigma_y = np.zeros(Ny)\n",
    "\n",
    "    for i in range(pml_thickness):\n",
    "        sigma_x[i] = sigma_profile(sigma_max, pml_thickness, pml_thickness - i)\n",
    "        sigma_x[-1 - i] = sigma_profile(sigma_max, pml_thickness, pml_thickness - i)\n",
    "    for j in range(pml_thickness):\n",
    "        sigma_y[j] = sigma_profile(sigma_max, pml_thickness, pml_thickness - j)\n",
    "        sigma_y[-1 - j] = sigma_profile(sigma_max, pml_thickness, pml_thickness - j)\n",
    "    return sigma_x, sigma_y\n",
    "\n",
    "def update_equations(Dz, Ez, Hx, Hy, Bx, By,\n",
    "                     Dz_old, Bx_old, By_old,\n",
    "                     sigma_x, sigma_y, epsilon, mu,\n",
    "                     dt, dx, dy):\n",
    "    # Dz, Ez\n",
    "    Dz[1:-1, 1:-1] = ((1 - 0.5 * dt * sigma_y[1:-1, 1:-1]) / (1 + 0.5 * dt * sigma_y[1:-1, 1:-1])) * Dz[1:-1, 1:-1] + \\\n",
    "        dt / (1 + 0.5 * dt * sigma_y[1:-1, 1:-1]) / epsilon[1:-1, 1:-1] * \\\n",
    "        ((Hy[1:, 1:-1] - Hy[:-1,1:-1]) / dx - (Hx[1:-1, 1:] - Hx[1:-1, :-1]) / dy)\n",
    "    Ez[1:-1, 1:-1] = ((1 - 0.5 * dt  * sigma_x[1:-1, 1:-1]) / (1 + 0.5 * dt * sigma_x[1:-1, 1:-1])) * Ez[1:-1, 1:-1] + \\\n",
    "        1 /  (1 + 0.5 * dt  * sigma_x[1:-1, 1:-1]) * (Dz[1:-1, 1:-1] - Dz_old[1:-1, 1:-1])\n",
    "\n",
    "    # Bx, Hx\n",
    "    sigma_y_Bx = 0.5 * (sigma_y[1:-1, 2:-1] + sigma_y[1:-1, 1:-2])\n",
    "    sigma_x_Hx = 0.5 * (sigma_x[1:-1, 2:-1] + sigma_x[1:-1, 1:-2])\n",
    "    mu_Hx = 0.5 * (mu[:, :-1] + mu[:, 1:])\n",
    "    Bx[1:-1, 1:-1] = ((1 - dt/2 * sigma_y_Bx) / (1 + dt/2 * sigma_y_Bx)) * Bx[1:-1, 1:-1] - \\\n",
    "        dt / (1 + dt/2 * sigma_y_Bx) * 1 * (Ez[1:-1, 2:-1] - Ez[1:-1, 1:-2])/dy\n",
    "    # Hx[1:-1, 1:-1] = Hx[1:-1, 1:-1] + \\\n",
    "    #         (1 + dt / 2 * sigma_x_Hx) * Bx[1:-1,1:-1] - \\\n",
    "    #         (1 - dt / 2 * sigma_x_Hx) * Bx_old[1:-1, 1:-1]\n",
    "    Hx[1:-1, 1:-1] = Hx[1:-1, 1:-1] + \\\n",
    "            (Bx[1:-1,1:-1]-Bx_old[1:-1, 1:-1]) +\\\n",
    "            0.5 * dt * sigma_x_Hx *(Bx[1:-1,1:-1]+Bx_old[1:-1, 1:-1])\n",
    "\n",
    "        # By, Hy\n",
    "    sigma_x_By = 0.5 * (sigma_x[2:-1, 1:-1] + sigma_x[1:-2, 1:-1])\n",
    "    sigma_y_Hy = 0.5 * (sigma_y[2:-1, 1:-1] + sigma_y[1:-2, 1:-1])\n",
    "    mu_Hy = 0.5 * (mu[:-1, :] + mu[1:, :])\n",
    "    By[1:-1, 1:-1] = ((1 - dt/2 * sigma_x_By) / (1 + dt/2 * sigma_x_By)) * By[1:-1, 1:-1] + \\\n",
    "        dt / (1 + dt/2 * sigma_x_By) / 1 * (Ez[2:-1, 1:-1] - Ez[1:-2, 1:-1]) / dx\n",
    "    # Hy[1:-1, 1:-1] = Hy[1:-1, 1:-1] + (1 + dt / 2 * sigma_y_Hy) * By[1:-1, 1:-1] - \\\n",
    "    #     (1 - dt / 2 * sigma_y_Hy) * By_old[1:-1, 1:-1]\n",
    "    Hy[1:-1, 1:-1] = Hy[1:-1, 1:-1] + \\\n",
    "                     (By[1:-1, 1:-1] - By_old[1:-1, 1:-1]) + \\\n",
    "                     0.5 * dt * sigma_y_Hy * (By[1:-1, 1:-1] + By_old[1:-1, 1:-1])\n",
    "\n",
    "    Dz_old = np.copy(Dz)\n",
    "    Bx_old = np.copy(Bx)\n",
    "    By_old = np.copy(By)\n",
    "\n",
    "    return Dz, Ez, Hx, Hy, Bx, By, Dz_old, Bx_old, By_old\n",
    "\n",
    "if __name__ == \"__main__\":\n",
    "    main()"
   ]
  },
  {
   "cell_type": "code",
   "execution_count": 3,
   "id": "29b41669703c6ea1",
   "metadata": {},
   "outputs": [
    {
     "name": "stdout",
     "output_type": "stream",
     "text": [
      "[90 91 92 93 94 95 96 97 98 99]\n"
     ]
    }
   ],
   "source": [
    "i_z_dipole_start= 90\n",
    "i_z_dipole_end = 100\n",
    "z_coords = np.arange(i_z_dipole_start, i_z_dipole_end) \n",
    "print(z_coords)"
   ]
  },
  {
   "cell_type": "code",
   "execution_count": 7,
   "id": "16079d35-526a-47d5-96b9-78d1a281eede",
   "metadata": {},
   "outputs": [
    {
     "name": "stdout",
     "output_type": "stream",
     "text": [
      "[-40 -30 -20 -10   0  10  20  30  40  50]\n"
     ]
    }
   ],
   "source": [
    "kc = 94\n",
    "dz = 10\n",
    "\n",
    "z_rel = (z_coords - kc) * dz\n",
    "#I_dipole = I_profile(lambda_0, c0, z_rel, L) \n",
    "print(z_rel)"
   ]
  },
  {
   "cell_type": "code",
   "execution_count": 2,
   "id": "13d60a30-e735-41a1-b5e6-516fa2ccf297",
   "metadata": {},
   "outputs": [
    {
     "name": "stdout",
     "output_type": "stream",
     "text": [
      "0.44.2\n",
      "['AVSucdReader', 'AmbiguousDataError', 'AnnotatedIntEnum', 'ArrayLike', 'Arrow', 'ArrowSource', 'AxesGeometrySource', 'BMPReader', 'BUILDING_GALLERY', 'BYUReader', 'BaseReader', 'BinaryMarchingCubesReader', 'BoundsLike', 'Box', 'BoxSource', 'CGNSReader', 'Capsule', 'Cell', 'CellArray', 'CellArrayLike', 'CellType', 'CellsLike', 'Circle', 'CircularArc', 'CircularArcFromNormal', 'CompositeFilters', 'Cone', 'ConeSource', 'Cube', 'CubeSource', 'Cylinder', 'CylinderSource', 'CylinderStructured', 'DEFAULT_SCALARS_NAME', 'DEMReader', 'DICOMReader', 'DataObject', 'DataSet', 'DataSetAttributes', 'DataSetFilters', 'DeprecationError', 'Disc', 'DiscSource', 'Dodecahedron', 'Ellipse', 'EnSightReader', 'ExplicitStructuredGrid', 'FIGURE_PATH', 'FLOAT_FORMAT', 'FLUENTCFFReader', 'FacetReader', 'FieldAssociation', 'FluentReader', 'GESignaReader', 'GIFReader', 'GLTFReader', 'GPUInfo', 'GambitReader', 'GaussianCubeReader', 'Grid', 'HDFReader', 'HDRReader', 'ID_TYPE', 'Icosahedron', 'Icosphere', 'ImageData', 'ImageDataFilters', 'ImageEllipsoidSource', 'ImageGaussianSource', 'ImageGridSource', 'ImageMandelbrotSource', 'ImageNoiseSource', 'ImageSinusoidSource', 'JPEGReader', 'KochanekSpline', 'Line', 'LineSource', 'MAX_N_COLOR_BARS', 'MFIXReader', 'MINCImageReader', 'MatrixLike', 'MetaImageReader', 'MissingDataError', 'MultiBlock', 'MultiBlockPlot3DReader', 'MultipleLines', 'MultipleLinesSource', 'NIFTIReader', 'NORMALS', 'NRRDReader', 'NotAllTrianglesError', 'Number', 'NumberType', 'NumpyArray', 'OBJReader', 'OFF_SCREEN', 'ON_SCREENSHOT', 'Observer', 'Octahedron', 'OpenFOAMReader', 'PDBReader', 'PICKLE_FORMAT', 'PLOT_DIRECTIVE_THEME', 'PLYReader', 'PNGReader', 'PNMReader', 'POpenFOAMReader', 'PTSReader', 'PVDDataSet', 'PVDReader', 'ParametricBohemianDome', 'ParametricBour', 'ParametricBoy', 'ParametricCatalanMinimal', 'ParametricConicSpiral', 'ParametricCrossCap', 'ParametricDini', 'ParametricEllipsoid', 'ParametricEnneper', 'ParametricFigure8Klein', 'ParametricHenneberg', 'ParametricKlein', 'ParametricKuen', 'ParametricMobius', 'ParametricPluckerConoid', 'ParametricPseudosphere', 'ParametricRandomHills', 'ParametricRoman', 'ParametricSuperEllipsoid', 'ParametricSuperToroid', 'ParametricTorus', 'ParticleReader', 'PartitionedDataSet', 'Plane', 'PlaneSource', 'PlatonicSolid', 'PlatonicSolidSource', 'Plot3DFunctionEnum', 'Plot3DMetaReader', 'PointCellDataSelection', 'PointGrid', 'PointSet', 'PointSetCellOperationError', 'PointSetDimensionReductionError', 'PointSetNotSupported', 'PolyData', 'PolyDataFilters', 'Polygon', 'PolygonSource', 'ProStarReader', 'ProgressMonitor', 'PyVistaDeprecationWarning', 'PyVistaEfficiencyWarning', 'PyVistaFutureWarning', 'PyVistaPipelineError', 'Pyramid', 'Quadrilateral', 'REPR_VOLUME_MAX_CELLS', 'Rectangle', 'RectilinearGrid', 'Report', 'SLCReader', 'STLReader', 'SegYReader', 'SolidSphere', 'SolidSphereGeneric', 'Sphere', 'SphereSource', 'Spline', 'StructuredGrid', 'Superquadric', 'SuperquadricSource', 'TIFFReader', 'TYPE_CHECKING', 'Table', 'TecplotReader', 'Tetrahedron', 'Text3D', 'Text3DSource', 'TimeReader', 'TransformLike', 'Triangle', 'Tube', 'UnstructuredGrid', 'UnstructuredGridFilters', 'VTKDataSetReader', 'VTKPDataSetReader', 'VTKVersionError', 'VectorLike', 'VtkErrorCatcher', 'Wavelet', 'XMLImageDataReader', 'XMLMultiBlockDataReader', 'XMLPImageDataReader', 'XMLPRectilinearGridReader', 'XMLPUnstructuredGridReader', 'XMLPartitionedDataSetReader', 'XMLPolyDataReader', 'XMLRectilinearGridReader', 'XMLStructuredGridReader', 'XMLUnstructuredGridReader', 'XdmfReader', '__builtins__', '__cached__', '__doc__', '__file__', '__getattr__', '__loader__', '__name__', '__package__', '__path__', '__spec__', '__version__', '_get_vtk_id_type', '_plot', '_validation', '_version', '_wrappers', 'abstract_class', 'annotations', 'array_from_vtkmatrix', 'arrays', 'assert_empty_kwargs', 'axis_rotation', 'cartesian_to_spherical', 'cell', 'cell_array', 'cells', 'celltype', 'check_valid_vector', 'composite', 'conditional_decorator', 'contextlib', 'convert_array', 'convert_string_array', 'core', 'create_grid', 'create_mixed_cells', 'dataobject', 'dataset', 'datasetattributes', 'errors', 'features', 'field_array', 'fileio', 'filters', 'fit_plane_to_points', 'from_meshio', 'generate_plane', 'geometric_objects', 'geometric_sources', 'get_array', 'get_array_association', 'get_ext', 'get_gpu_info', 'get_mixed_cells', 'get_reader', 'get_vtk_type', 'grid', 'grid_from_sph_coords', 'has_module', 'helpers', 'image_sources', 'is_inside_bounds', 'is_meshio_mesh', 'is_pyvista_dataset', 'jupyter', 'line_segments_from_points', 'lines_from_points', 'make_tri_mesh', 'merge', 'misc', 'ncells_from_cells', 'numpy_to_idarr', 'objects', 'observers', 'os', 'parametric_keywords', 'parametric_objects', 'parse_field_choice', 'partitioned', 'perlin_noise', 'plot', 'point_array', 'points', 'pointset', 'pyvista_ndarray', 'raise_has_duplicates', 'raise_not_matching', 'read', 'read_exodus', 'read_meshio', 'read_texture', 'reader', 'report', 'row_array', 'sample_function', 'save_meshio', 'send_errors_to_logging', 'set_default_active_scalars', 'set_default_active_vectors', 'set_error_output_file', 'set_jupyter_backend', 'set_pickle_format', 'set_vtkwriter_mode', 'spherical_to_cartesian', 'surface_from_para', 'sys', 'threaded', 'transform_vectors_sph_to_cart', 'transformations', 'translate', 'try_callback', 'utilities', 'vector_poly_data', 'version_info', 'voxelize', 'voxelize_volume', 'vtk_bit_array_to_char', 'vtk_id_list_to_array', 'vtk_points', 'vtk_version_info', 'vtkmatrix_from_array', 'warnings', 'wrap', 'wrappers']\n"
     ]
    }
   ],
   "source": [
    "import pyvista as pv\n",
    "print(pv.__version__)\n",
    "print(dir(pv))"
   ]
  },
  {
   "cell_type": "code",
   "execution_count": 1,
   "id": "c93c7c65-7570-4dc2-94ef-0271533815f5",
   "metadata": {},
   "outputs": [
    {
     "name": "stdout",
     "output_type": "stream",
     "text": [
      "1250.0\n"
     ]
    }
   ],
   "source": [
    "print(1.25e3)"
   ]
  },
  {
   "cell_type": "code",
   "execution_count": 6,
   "id": "6d4338eb-4cc9-457a-989b-582c4325b52e",
   "metadata": {},
   "outputs": [
    {
     "name": "stdout",
     "output_type": "stream",
     "text": [
      "4.76314e-12\n",
      "[ 0.00000000e+00  6.99818480e+07  1.39963696e+08 ... -2.09945544e+08\n",
      " -1.39963696e+08 -6.99818480e+07]\n",
      "104902790152.0\n"
     ]
    }
   ],
   "source": [
    "nt = int(3e3)\n",
    "dx = dy = dz = cp.float32(2.5e-3)  # mm, spatial step size\n",
    "\n",
    "\n",
    "dt = 0.99*dx / (3e8 * np.sqrt(np.float32(3)))\n",
    "print(dt)\n",
    "print(np.fft.fftfreq(nt, d=dt))\n",
    "print(max(np.fft.fftfreq(nt, d=dt)))"
   ]
  },
  {
   "cell_type": "code",
   "execution_count": null,
   "id": "aae29906-c6c7-43ec-a56f-67158e462c04",
   "metadata": {},
   "outputs": [],
   "source": []
  }
 ],
 "metadata": {
  "kernelspec": {
   "display_name": "Python 3 (ipykernel)",
   "language": "python",
   "name": "python3"
  },
  "language_info": {
   "codemirror_mode": {
    "name": "ipython",
    "version": 3
   },
   "file_extension": ".py",
   "mimetype": "text/x-python",
   "name": "python",
   "nbconvert_exporter": "python",
   "pygments_lexer": "ipython3",
   "version": "3.12.9"
  }
 },
 "nbformat": 4,
 "nbformat_minor": 5
}
